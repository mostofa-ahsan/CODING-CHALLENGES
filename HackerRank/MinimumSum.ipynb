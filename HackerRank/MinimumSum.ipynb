{
 "cells": [
  {
   "cell_type": "code",
   "execution_count": 2,
   "metadata": {},
   "outputs": [
    {
     "name": "stdout",
     "output_type": "stream",
     "text": [
      "11\n"
     ]
    }
   ],
   "source": [
    "import math\n",
    "import heapq\n",
    "\n",
    "def heapreplace_max(heap, item):\n",
    "    \"We need to implement this ourselves from primitives.\"\n",
    "    returnitem = heap[0]\n",
    "    heap[0] = item\n",
    "    heapq._siftup_max(heap, 0)\n",
    "    return returnitem\n",
    "\n",
    "\n",
    "def minSum(num, k):\n",
    "    heap = num   # alias for consistency with other samples\n",
    "    heapq._heapify_max(heap)  # make it a max heap (no negation hack)\n",
    "\n",
    "    for i in range(k):\n",
    "        max_value = heap[0]\n",
    "        heapreplace_max(heap, math.ceil(max_value/2))\n",
    "\n",
    "    return sum(heap)\n",
    "\n",
    "n= [7,10,4]\n",
    "print(minSum(n,3))"
   ]
  }
 ],
 "metadata": {
  "kernelspec": {
   "display_name": "Python 3",
   "language": "python",
   "name": "python3"
  },
  "language_info": {
   "codemirror_mode": {
    "name": "ipython",
    "version": 3
   },
   "file_extension": ".py",
   "mimetype": "text/x-python",
   "name": "python",
   "nbconvert_exporter": "python",
   "pygments_lexer": "ipython3",
   "version": "3.7.4"
  }
 },
 "nbformat": 4,
 "nbformat_minor": 2
}
