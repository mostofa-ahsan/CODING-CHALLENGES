{
 "cells": [
  {
   "cell_type": "code",
   "execution_count": 1,
   "metadata": {},
   "outputs": [
    {
     "name": "stdout",
     "output_type": "stream",
     "text": [
      "2 7\n",
      "0.18 0.89 109.85\n",
      "1.0 0.26 155.72\n",
      "0.92 0.11 137.66\n",
      "0.07 0.37 76.17\n",
      "0.85 0.16 139.75\n",
      "0.99 0.41 162.6\n",
      "0.87 0.47 151.77\n",
      "4\n",
      "0.49 0.18\n",
      "0.57 0.83\n",
      "0.56 0.64\n",
      "0.76 0.18\n",
      "105.21455835106944\n",
      "142.67095130729922\n",
      "132.93605469124694\n",
      "129.70175404502453\n"
     ]
    }
   ],
   "source": [
    "import numpy as np\n",
    "from sklearn import linear_model as lm\n",
    "\n",
    "F, N = map(int, input().split())\n",
    "train = np.array([input().split() for _ in range(N)], float)\n",
    "T = int(input())\n",
    "test = np.array([input().split() for _ in range(T)], float)\n",
    "\n",
    "mod = lm.LinearRegression()\n",
    "mod.fit(train[:, :-1], train[:, -1])\n",
    "ymod = mod.predict(test)\n",
    "print(*ymod, sep='\\n')"
   ]
  },
  {
   "cell_type": "code",
   "execution_count": null,
   "metadata": {},
   "outputs": [],
   "source": [
    "0.18 0.89 109.85\n",
    "1.0 0.26 155.72\n",
    "0.92 0.11 137.66\n",
    "0.07 0.37 76.17\n",
    "0.85 0.16 139.75\n",
    "0.99 0.41 162.6\n",
    "0.87 0.47 151.77\n",
    "\n",
    "\n",
    "\n",
    "0.49 0.18\n",
    "0.57 0.83\n",
    "0.56 0.64\n",
    "0.76 0.18"
   ]
  },
  {
   "cell_type": "code",
   "execution_count": 2,
   "metadata": {
    "scrolled": true
   },
   "outputs": [
    {
     "name": "stdout",
     "output_type": "stream",
     "text": [
      "0.18 0.89 109.85\n",
      "1.0 0.26 155.72\n",
      "0.92 0.11 137.66\n",
      "0.07 0.37 76.17\n",
      "0.85 0.16 139.75\n",
      "0.99 0.41 162.6\n",
      "0.87 0.47 151.77\n",
      "[[1.8000e-01 8.9000e-01 1.0985e+02]\n",
      " [1.0000e+00 2.6000e-01 1.5572e+02]\n",
      " [9.2000e-01 1.1000e-01 1.3766e+02]\n",
      " [7.0000e-02 3.7000e-01 7.6170e+01]\n",
      " [8.5000e-01 1.6000e-01 1.3975e+02]\n",
      " [9.9000e-01 4.1000e-01 1.6260e+02]\n",
      " [8.7000e-01 4.7000e-01 1.5177e+02]]\n"
     ]
    }
   ],
   "source": [
    "N=7\n",
    "train = np.array([input().split() for _ in range(N)], float)\n",
    "print(train)"
   ]
  },
  {
   "cell_type": "code",
   "execution_count": 5,
   "metadata": {},
   "outputs": [
    {
     "name": "stdout",
     "output_type": "stream",
     "text": [
      "2 7\n",
      "0.18 0.89 109.85\n",
      "1.0 0.26 155.72\n",
      "0.92 0.11 137.66\n",
      "0.07 0.37 76.17\n",
      "0.85 0.16 139.75\n",
      "0.99 0.41 162.6\n",
      "0.87 0.47 151.77\n",
      "4\n",
      "0.49 0.18\n",
      "0.57 0.83\n",
      "0.56 0.64\n",
      "0.76 0.18\n",
      "105.215\n",
      "142.671\n",
      "132.936\n",
      "129.702\n",
      "[105.21455835 142.67095131 132.93605469 129.70175405]\n"
     ]
    }
   ],
   "source": [
    "import numpy as np\n",
    "from sklearn import linear_model as lm\n",
    "\n",
    "F,N = map(int, input().split())\n",
    "train = np.array([input().split() for i in range(N)],float)\n",
    "T = int(input())\n",
    "test = np.array([input().split() for i in range(T)],float)\n",
    "mod = lm.LinearRegression()\n",
    "mod.fit(train[:,:-1],train[:,-1])\n",
    "ymod = mod.predict(test)\n",
    "\n",
    "for i in ymod:\n",
    "    print(round(i,2))\n",
    "print(ymod)"
   ]
  }
 ],
 "metadata": {
  "kernelspec": {
   "display_name": "Python 3",
   "language": "python",
   "name": "python3"
  },
  "language_info": {
   "codemirror_mode": {
    "name": "ipython",
    "version": 3
   },
   "file_extension": ".py",
   "mimetype": "text/x-python",
   "name": "python",
   "nbconvert_exporter": "python",
   "pygments_lexer": "ipython3",
   "version": "3.7.6"
  }
 },
 "nbformat": 4,
 "nbformat_minor": 4
}
