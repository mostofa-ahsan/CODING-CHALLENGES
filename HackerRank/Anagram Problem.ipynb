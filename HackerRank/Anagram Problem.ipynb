{
 "cells": [
  {
   "cell_type": "code",
   "execution_count": 1,
   "metadata": {},
   "outputs": [
    {
     "name": "stdout",
     "output_type": "stream",
     "text": [
      "{'A': 5, 'B': 2, 'C': 4, 'D': 1, 'E': 1, 'T': 2, 'G': 2}\n"
     ]
    }
   ],
   "source": [
    "def buildMap(s):\n",
    "    the_map = {}\n",
    "    for char in s:\n",
    "        if char not in the_map:\n",
    "            the_map[char] = 1\n",
    "        else:\n",
    "            the_map[char] +=1\n",
    " \n",
    "    return the_map\n",
    "\n",
    "# s1= ('AABCCDABCETGGACTA')\n",
    "# Mapp= buildMap(s1)\n",
    "# print(Mapp)"
   ]
  },
  {
   "cell_type": "code",
   "execution_count": 5,
   "metadata": {},
   "outputs": [
    {
     "name": "stdout",
     "output_type": "stream",
     "text": [
      "school\n",
      "iscool\n",
      "2\n"
     ]
    }
   ],
   "source": [
    "def buildMap(s):\n",
    "    the_map = {}\n",
    "    for char in s:\n",
    "        if char not in the_map:\n",
    "            the_map[char] = 1\n",
    "        else:\n",
    "            the_map[char] +=1\n",
    " \n",
    "    return the_map\n",
    "\n",
    "def anagram(s1, s2):\n",
    "    map1 = buildMap(s1)\n",
    "    map2 = buildMap(s2)\n",
    " \n",
    "    diff_cnt = 0\n",
    "    for key in map2.keys():\n",
    "        if key not in map1:\n",
    "            diff_cnt += map2[key]\n",
    "        else:\n",
    "            diff_cnt += max(0, map2[key]-map1[key])\n",
    " \n",
    "    for key in map1.keys():\n",
    "        if key not in map2:\n",
    "            diff_cnt += map1[key]\n",
    "        else:\n",
    "            diff_cnt += max(0, map1[key]-map2[key])\n",
    " \n",
    "    return diff_cnt\n",
    " \n",
    "if __name__ == '__main__':\n",
    "    s1 = input()\n",
    "    s2 = input()\n",
    "    print (anagram(s1, s2))\n"
   ]
  }
 ],
 "metadata": {
  "kernelspec": {
   "display_name": "RTX-2070",
   "language": "python",
   "name": "rtx-2070"
  },
  "language_info": {
   "codemirror_mode": {
    "name": "ipython",
    "version": 3
   },
   "file_extension": ".py",
   "mimetype": "text/x-python",
   "name": "python",
   "nbconvert_exporter": "python",
   "pygments_lexer": "ipython3",
   "version": "3.7.6"
  }
 },
 "nbformat": 4,
 "nbformat_minor": 2
}
