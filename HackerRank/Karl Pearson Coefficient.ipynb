{
 "cells": [
  {
   "cell_type": "code",
   "execution_count": 4,
   "metadata": {},
   "outputs": [
    {
     "name": "stdout",
     "output_type": "stream",
     "text": [
      "0.145\n"
     ]
    }
   ],
   "source": [
    "import numpy as np\n",
    "\n",
    "\n",
    "Score1 = [15,12,8,8,7,7,7,6,5,3] \n",
    "Score2 = [10,25,17,11,13,17,20,13,9,15]\n",
    "\n",
    "m1 = sum(Score1)/len(Score1)\n",
    "m2 = sum(Score2)/len(Score2)\n",
    "\n",
    "n1 = [i-m1 for i in Score1]\n",
    "n2 = [j-m1 for j in Score2]\n",
    "\n",
    "d1 = sum([((k-m1)**2) for k in Score1])\n",
    "d2 = sum([((j-m2)**2) for j in Score2])\n",
    "\n",
    "Numerator = sum([x*y for x,y in zip(n1,n2)])\n",
    "\n",
    "denominator = (d1**(.5)*d2**(.5))\n",
    "\n",
    "coef = Numerator/denominator\n",
    "\n",
    "print(round(coef,3))"
   ]
  },
  {
   "cell_type": "code",
   "execution_count": 3,
   "metadata": {},
   "outputs": [
    {
     "name": "stdout",
     "output_type": "stream",
     "text": [
      "0.145\n"
     ]
    }
   ],
   "source": [
    "Score1 = [15,12,8,8,7,7,7,6,5,3] \n",
    "Score2 = [10,25,17,11,13,17,20,13,9,15]\n",
    "\n",
    "m1 = (sum(Score1)/len(Score1))\n",
    "m2 = (sum(Score2)/len(Score1))\n",
    "\n",
    "Score_1 = [x-m1 for x in Score1]\n",
    "Score_2 = [x-m2 for x in Score2]\n",
    "\n",
    "n1 = sum([x*y for x,y in zip(Score_1,Score_2)])\n",
    "\n",
    "Score1 = sum([(x-m1)**2 for x in Score1])\n",
    "Score2 = sum([(x-m2)**2 for x in Score2])\n",
    "\n",
    "n2 = (Score1**(1/2))*(Score2**(1/2))\n",
    "\n",
    "r = n1/n2\n",
    "\n",
    "print (round(r,3))"
   ]
  }
 ],
 "metadata": {
  "kernelspec": {
   "display_name": "Python 3",
   "language": "python",
   "name": "python3"
  },
  "language_info": {
   "codemirror_mode": {
    "name": "ipython",
    "version": 3
   },
   "file_extension": ".py",
   "mimetype": "text/x-python",
   "name": "python",
   "nbconvert_exporter": "python",
   "pygments_lexer": "ipython3",
   "version": "3.7.6"
  }
 },
 "nbformat": 4,
 "nbformat_minor": 4
}
