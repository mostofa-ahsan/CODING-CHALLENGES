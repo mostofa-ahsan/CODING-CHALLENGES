{
 "cells": [
  {
   "cell_type": "code",
   "execution_count": 2,
   "metadata": {},
   "outputs": [
    {
     "name": "stdout",
     "output_type": "stream",
     "text": [
      "13\n"
     ]
    }
   ],
   "source": [
    "memory = {}\n",
    "def fibonacci(n):\n",
    "    if n < 2:\n",
    "        return n\n",
    "    if not n in memory.keys():\n",
    "        memory[n] = fibonacci(n-1) + fibonacci(n-2)\n",
    "    return memory[n]\n",
    "print(fibonacci(7))"
   ]
  }
 ],
 "metadata": {
  "kernelspec": {
   "display_name": "RTX-2070",
   "language": "python",
   "name": "rtx-2070"
  },
  "language_info": {
   "codemirror_mode": {
    "name": "ipython",
    "version": 3
   },
   "file_extension": ".py",
   "mimetype": "text/x-python",
   "name": "python",
   "nbconvert_exporter": "python",
   "pygments_lexer": "ipython3",
   "version": "3.7.6"
  }
 },
 "nbformat": 4,
 "nbformat_minor": 2
}
